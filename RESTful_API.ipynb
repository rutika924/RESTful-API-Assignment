{
  "nbformat": 4,
  "nbformat_minor": 0,
  "metadata": {
    "colab": {
      "provenance": []
    },
    "kernelspec": {
      "name": "python3",
      "display_name": "Python 3"
    },
    "language_info": {
      "name": "python"
    }
  },
  "cells": [
    {
      "cell_type": "markdown",
      "source": [
        "1)What is a RESTful API?\n",
        "\n",
        "Ans:\n",
        "\n",
        "-A RESTful API (Representational State Transfer) is an architectural style for building web services.\n",
        "\n",
        "-It uses HTTP methods (GET, POST, PUT, DELETE) to perform operations on resources.\n",
        "\n",
        "-Data is usually exchanged in JSON format.\n",
        "\n",
        "-REST APIs are stateless each request contains all required information.\n",
        "\n",
        "-Example:\n",
        "\n",
        "-GET /users → Fetch all users.\n",
        "\n",
        "-POST /users → Add a new user.-\n",
        "\n",
        "\n",
        "\n"
      ],
      "metadata": {
        "id": "JEWHaQ8wN2e-"
      }
    },
    {
      "cell_type": "markdown",
      "source": [
        "2)Explain the concept of API specification.\n",
        "\n",
        "Ans:\n",
        "\n",
        "-An API specification is a formal document that defines how clients can interact with the API.\n",
        "\n",
        "-It includes endpoints, request/response formats, data types, authentication, and status codes.\n",
        "\n",
        "-Helps developers understand and use the API correctly."
      ],
      "metadata": {
        "id": "ZozvWcmsOmM4"
      }
    },
    {
      "cell_type": "markdown",
      "source": [
        "3)What is Flask, and why is it popular for building APIs?\n",
        "\n",
        "Ans:\n",
        "\n",
        "-Flask is a lightweight Python web framework used to build web apps and RESTful APIs.\n",
        "\n",
        "-Its Popular because:\n",
        "\n",
        "1)Simple and easy to learn.\n",
        "\n",
        "2)Flexible (minimal core, add extensions as needed).\n",
        "\n",
        "3)Built-in development server and debugger.\n",
        "\n",
        "4)Good for small-to-medium applications.\n",
        "\n",
        "-Example:\n",
        "\n",
        "    from flask import Flask\n",
        "    app = Flask(_name_)\n",
        "\n",
        "    @app.route('/')\n",
        "    def home():\n",
        "    return \"Hello Flask!\""
      ],
      "metadata": {
        "id": "RrB762vhOzAh"
      }
    },
    {
      "cell_type": "markdown",
      "source": [
        "4)What is routing in Flask?\n",
        "\n",
        "Ans:-\n",
        "\n",
        "-Routing is the process of mapping URLs to functions in a Flask application.\n",
        "\n",
        "-Each route is defined using the @app.route() decorator.\n",
        "\n",
        "-Helps handle multiple pages and API endpoints.\n",
        "\n",
        "-Example:\n",
        "\n",
        "    @app.route('/about')\n",
        "    def about():\n",
        "    return \"This is the About Page\""
      ],
      "metadata": {
        "id": "rD00Gg0cPi68"
      }
    },
    {
      "cell_type": "markdown",
      "source": [
        "5)How do you create a simple Flask application?\n",
        "\n",
        "Ans:-\n",
        "\n",
        "-Steps:\n",
        "\n",
        "1)Import Flask.\n",
        "\n",
        "2)Create an app instance.\n",
        "\n",
        "3)Define routes with @app.route().\n",
        "\n",
        "4)Run the server.\n",
        "\n",
        "-Example:-\n",
        "   \n",
        "    from flask import Flask\n",
        "    app = Flask(_name_)\n",
        "\n",
        "    @app.route('/')\n",
        "    def home():\n",
        "    return \"Welcome to Flask API\"\n",
        "\n",
        "    if _name_ == '_main_':\n",
        "    app.run(debug=True)"
      ],
      "metadata": {
        "id": "DDHTTot9QidV"
      }
    },
    {
      "cell_type": "markdown",
      "source": [
        "6)What are HTTP methods used in RESTful APIs?\n",
        "\n",
        "Ans:\n",
        "\n",
        "-HTTP methods define the type of action to perform on a resource:\n",
        "\n",
        "1)GET → Retrieve data.\n",
        "\n",
        "2)POST → Create new data.\n",
        "\n",
        "3)PUT → Update/replace data.\n",
        "\n",
        "4)PATCH → Update partially.\n",
        "\n",
        "5)DELETE → Remove data.\n",
        "\n",
        "-Example:\n",
        "\n",
        "1)GET /books → fetch all books.\n",
        "\n",
        "2)POST /books → add a new book.\n",
        "\n",
        "3)DELETE /books/3 → delete book with ID 3."
      ],
      "metadata": {
        "id": "2uzx3DP_RWjG"
      }
    },
    {
      "cell_type": "markdown",
      "source": [
        "7) What is the purpose of the @app.route() decorator in Flask?\n",
        "\n",
        "Ans:-\n",
        "\n",
        "-The @app.route() decorator binds a URL path to a function.\n",
        "\n",
        "-When the route is accessed, Flask executes the function.\n",
        "\n",
        "-It makes routing simple and readable.\n",
        "\n",
        "Example:\n",
        "\n",
        "    @app.route('/hello')\n",
        "    def hello():\n",
        "    return \"Hello,World!\""
      ],
      "metadata": {
        "id": "1almXVPNRvbO"
      }
    },
    {
      "cell_type": "markdown",
      "source": [
        "8) What is the difference between GET and POST HTTP methods?\n",
        "\n",
        "Ans:\n",
        "\n",
        "-GET:\n",
        "\n",
        "1)Retrieves data.\n",
        "\n",
        "2)Parameters sent in URL (query string).\n",
        "\n",
        "3)Idempotent (safe to call multiple times).\n",
        "\n",
        "-POST:\n",
        "\n",
        "1)Submits new data.\n",
        "\n",
        "2)Data sent in request body.\n",
        "\n",
        "3)Not idempotent.\n",
        "\n",
        "-Example:\n",
        "\n",
        "    GET /users?id=1 → fetch user with ID 1.\n",
        "\n",
        "    POST /users with JSON { \"name\": \"John\" } → create user."
      ],
      "metadata": {
        "id": "FdyXF4kFSJbz"
      }
    },
    {
      "cell_type": "markdown",
      "source": [
        "9) How do you handle errors in Flask APIs?\n",
        "\n",
        "Ans:-\n",
        "\n",
        "-Use error handlers to return meaningful responses.\n",
        "\n",
        "-Common errors: 404 Not Found, 500 Internal Server Error.\n",
        "\n",
        "-Flask provides @app.errorhandler() decorator.\n",
        "\n",
        "-Example:\n",
        "\n",
        "    @app.errorhandler(404)\n",
        "    def not_found(erroe):\n",
        "    return{\"error\": \"Resource not found\"},404"
      ],
      "metadata": {
        "id": "6COTc7OmSnzI"
      }
    },
    {
      "cell_type": "markdown",
      "source": [
        "10) How do you connect Flask to a SQL database?\n",
        "\n",
        "Ans:-\n",
        "\n",
        "-Flask can connect to databases using extensions like Flask-SQLAlchemy.\n",
        "\n",
        "-Requires defining database URI and creating a model.\n",
        "\n",
        "-Example:\n",
        "\n",
        "    from flask_sqlalchemy import SQLAlchemy\n",
        "    app.config['SQLALCHEMY_DATABASE_URI'] = 'sqlite:///data.db'\n",
        "    db = SQLAlchemy(app)\n",
        "\n",
        "    class User(db.Model):\n",
        "    id = db.Column(db.Integer, primary_key=True)\n",
        "    name = db.Column(db.String(50))\n"
      ],
      "metadata": {
        "id": "WioEEKnsTE40"
      }
    },
    {
      "cell_type": "markdown",
      "source": [
        "11) What is the role of Flask-SQLAlchemy?\n",
        "\n",
        "Ans:\n",
        "\n",
        "-Flask-SQLAlchemy is an extension that integrates SQLAlchemy ORM with Flask.\n",
        "\n",
        "-Simplifies database operations like create, read, update, delete (CRUD).\n",
        "\n",
        "-Allows developers to work with Python objects instead of raw SQL queries.\n",
        "\n",
        "-Example:\n",
        "\n",
        "    from flask_sqlalchemy import SQLAlchemy\n",
        "    db = SQLAlchemy(app)\n",
        "\n",
        "    class User(db.Model):\n",
        "    id = db.Column(db.Integer, primary_key=True)\n",
        "    name = db.Column(db.String(50))"
      ],
      "metadata": {
        "id": "VAlkAFSjTdvk"
      }
    },
    {
      "cell_type": "markdown",
      "source": [
        "12) What are Flask blueprints, and how are they useful?\n",
        "\n",
        "Ans:\n",
        "\n",
        "-Blueprints are a way to organize routes and views in large Flask applications.\n",
        "\n",
        "-They allow modular code by splitting features into separate files.\n",
        "\n",
        "-Makes the app scalable and maintainable.\n",
        "\n",
        "-Example:\n",
        "\n",
        "    from flask import Blueprint\n",
        "    user_bp = Blueprint('user', __name__)\n",
        "\n",
        "    @user_bp.route('/profile')\n",
        "    def profile():\n",
        "    return \"User Profile\""
      ],
      "metadata": {
        "id": "QDqAg_zXTs23"
      }
    },
    {
      "cell_type": "markdown",
      "source": [
        "13) What is the purpose of Flask's request object?\n",
        "\n",
        "Ans:\n",
        "\n",
        "-The request object provides access to incoming HTTP request data.\n",
        "\n",
        "-Includes data like headers, form values, JSON, and query parameters.\n",
        "\n",
        "-Example:\n",
        "\n",
        "    from flask import request\n",
        "\n",
        "    @app.route('/login', methods=['POST'])\n",
        "    def login():\n",
        "    username = request.form['username']\n",
        "    return f\"Hello {username}\""
      ],
      "metadata": {
        "id": "oEyKl_qxT5uq"
      }
    },
    {
      "cell_type": "markdown",
      "source": [
        "14) How do you create a RESTful API endpoint using Flask?\n",
        "\n",
        "Ans:\n",
        "\n",
        "-Define a route with @app.route().\n",
        "\n",
        "-Specify the HTTP method (GET, POST, etc.).\n",
        "\n",
        "-Return JSON as a response.\n",
        "\n",
        "-Example:\n",
        "\n",
        "    @app.route('/api/users', methods=['GET'])\n",
        "    def get_users():\n",
        "    return {\"users\": [\"Alice\", \"Bob\"]}"
      ],
      "metadata": {
        "id": "o0Or6X1yUBoD"
      }
    },
    {
      "cell_type": "markdown",
      "source": [
        "15) What is the purpose of Flask's jsonify() function?\n",
        "\n",
        "Ans:\n",
        "\n",
        "-Converts Python dictionaries/lists into JSON responses.\n",
        "\n",
        "-Sets the correct Content-Type = application/json automatically.\n",
        "\n",
        "-Makes APIs easier to build.\n",
        "\n",
        "-Example:\n",
        "\n",
        "    from flask import jsonify\n",
        "\n",
        "    @app.route('/data')\n",
        "    def data():\n",
        "    return jsonify({\"message\": \"Hello\", \"status\": \"success\"})"
      ],
      "metadata": {
        "id": "dXpMu7dDUKnL"
      }
    },
    {
      "cell_type": "markdown",
      "source": [
        "16) Explain Flask’s url_for() function.\n",
        "\n",
        "Ans:\n",
        "\n",
        "-url_for() generates URLs for routes dynamically.\n",
        "\n",
        "-Helps avoid hardcoding URLs, making apps more maintainable.\n",
        "\n",
        "-Automatically updates if route changes.\n",
        "\n",
        "-Example:\n",
        "\n",
        "    from flask import url_for\n",
        "\n",
        "    @app.route('/home')\n",
        "    def home():\n",
        "    return \"Home Page\"\n",
        "\n",
        "    @app.route('/redirect')\n",
        "    def go_home():\n",
        "    return f\"Go to {url_for('home')}\""
      ],
      "metadata": {
        "id": "ftcygd2QUXbz"
      }
    },
    {
      "cell_type": "markdown",
      "source": [
        "17) How does Flask handle static files (CSS, JavaScript, etc.)?\n",
        "\n",
        "Ans:\n",
        "\n",
        "-Flask automatically serves static files from the static/ directory.\n",
        "\n",
        "-Access them using /static/<filename>.\n",
        "\n",
        "-Useful for stylesheets, images, and JavaScript files.\n",
        "\n",
        "-Example:\n",
        "\n",
        "    File: static/style.css\n",
        "\n",
        "    Usage in HTML:\n",
        "\n",
        "    <link rel=\"stylesheet\" href=\"{{ url_for('static', filename='style.css') }}\">"
      ],
      "metadata": {
        "id": "33pjvZbpUywb"
      }
    },
    {
      "cell_type": "markdown",
      "source": [
        "18) What is an API specification, and how does it help in building a Flask API?\n",
        "\n",
        "Ans:\n",
        "\n",
        "-API specification is a blueprint that defines endpoints, request/response formats, authentication, and error handling.\n",
        "\n",
        "-Helps developers build APIs consistently.\n",
        "\n",
        "-Tools like Swagger/OpenAPI provide documentation and testing.\n",
        "\n",
        "-Example:\n",
        "\n",
        "    paths:\n",
        "    /users:\n",
        "    get:\n",
        "    summary: Returns list of users"
      ],
      "metadata": {
        "id": "gXIfZWRkVnRj"
      }
    },
    {
      "cell_type": "markdown",
      "source": [
        "19) What are HTTP status codes, and why are they important in a Flask API?\n",
        "\n",
        "Ans:\n",
        "\n",
        "-Status codes are 3-digit numbers returned by a server to indicate the result of an HTTP request.\n",
        "\n",
        "-They inform the client about success, error, or redirection.\n",
        "\n",
        "-Examples:\n",
        "\n",
        "1)200 OK → Success\n",
        "\n",
        "2)404 Not Found → Resource missing\n",
        "\n",
        "3)500 Internal Server Error → Server crash\n",
        "\n",
        "-Example:\n",
        "\n",
        "    @app.route('/item')\n",
        "    def item():\n",
        "    return {\"error\": \"Not Found\"}, 404"
      ],
      "metadata": {
        "id": "25-sVM9iV551"
      }
    },
    {
      "cell_type": "markdown",
      "source": [
        "20) How do you handle POST requests in Flask?\n",
        "\n",
        "Ans:\n",
        "\n",
        "-Use methods=['POST'] in route definition.\n",
        "\n",
        "-Access data with request.form (form data) or request.json (JSON).\n",
        "\n",
        "-Example:\n",
        "\n",
        "    from flask import request\n",
        "\n",
        "    @app.route('/add', methods=['POST'])\n",
        "    def add():\n",
        "    data = request.json\n",
        "    return {\"received\": data}, 201"
      ],
      "metadata": {
        "id": "8UVmh9fNWJih"
      }
    },
    {
      "cell_type": "markdown",
      "source": [
        "21) How would you secure a Flask API?\n",
        "\n",
        "Ans:\n",
        "\n",
        "-Securing a Flask API involves multiple strategies:\n",
        "\n",
        "-Authentication & Authorization → using tokens (JWT, OAuth).\n",
        "\n",
        "-Input Validation → prevent SQL injection & XSS.\n",
        "\n",
        "-HTTPS → encrypt data in transit.\n",
        "\n",
        "-Rate Limiting → prevent abuse.\n",
        "\n",
        "-Error Handling → avoid exposing sensitive info.\n",
        "\n",
        "-Example (JWT with Flask-JWT-Extended):\n",
        "\n",
        "    from flask_jwt_extended import JWTManager, jwt_required\n",
        "\n",
        "    app.config['JWT_SECRET_KEY'] = 'secret'\n",
        "    jwt = JWTManager(app)\n",
        "\n",
        "    @app.route('/secure', methods=['GET'])\n",
        "    @jwt_required()\n",
        "    def secure():\n",
        "    return {\"msg\": \"You are authorized\"}"
      ],
      "metadata": {
        "id": "nEYWy5eFWTkC"
      }
    },
    {
      "cell_type": "code",
      "source": [
        "rom flask import Flask\n",
        "\n",
        "\n",
        "app = Flask(__name__)\n",
        "\n",
        "@app.route('/')\n",
        "def home():\n",
        "    return \"Hello, Flask! This is a basic app.\"\n",
        "\n",
        "if __name__ == '__main__':\n",
        "    app.run(debug=True)"
      ],
      "metadata": {
        "colab": {
          "base_uri": "https://localhost:8080/",
          "height": 106
        },
        "id": "BiELGGmFYGiz",
        "outputId": "cb85bc69-1e22-4ad4-973d-2326ed20f7a4"
      },
      "execution_count": 1,
      "outputs": [
        {
          "output_type": "error",
          "ename": "SyntaxError",
          "evalue": "invalid syntax (ipython-input-2484526689.py, line 1)",
          "traceback": [
            "\u001b[0;36m  File \u001b[0;32m\"/tmp/ipython-input-2484526689.py\"\u001b[0;36m, line \u001b[0;32m1\u001b[0m\n\u001b[0;31m    rom flask import Flask\u001b[0m\n\u001b[0m        ^\u001b[0m\n\u001b[0;31mSyntaxError\u001b[0m\u001b[0;31m:\u001b[0m invalid syntax\n"
          ]
        }
      ]
    },
    {
      "cell_type": "markdown",
      "source": [
        "22) What is the significance of the Flask-RESTful extension?\n",
        "\n",
        "Ans:\n",
        "\n",
        "-Flask-RESTful is an extension that simplifies building REST APIs.\n",
        "\n",
        "-Provides a Resource class where each class represents an endpoint.\n",
        "\n",
        "-Built-in support for request parsing and error handling.\n",
        "\n",
        "-Example:\n",
        "\n",
        "    from flask_restful import Resource, Api\n",
        "    api = Api(app)\n",
        "\n",
        "    class Hello(Resource):\n",
        "    def get(self):\n",
        "    return {\"message\": \"Hello, Flask-RESTful\"}\n",
        "\n",
        "api.add_resource(Hello, '/hello')"
      ],
      "metadata": {
        "id": "Rs95gQxGW4z8"
      }
    },
    {
      "cell_type": "markdown",
      "source": [
        "23) What is the role of Flask’s session object?\n",
        "\n",
        "Ans:\n",
        "\n",
        "-The session object stores data across requests for a specific user.\n",
        "\n",
        "-Data is stored on the server, but identified by a session cookie in the browser.\n",
        "\n",
        "-Useful for login systems, shopping carts, etc.\n",
        "\n",
        "-Example:\n",
        "\n",
        "    from flask import session\n",
        "\n",
        "    @app.route('/set')\n",
        "    def set_session():\n",
        "    session['username'] = 'Alice'\n",
        "    return \"Session set!\"\n",
        "\n",
        "    @app.route('/get')\n",
        "    def get_session():\n",
        "    return f\"Hello {session.get('username')}\""
      ],
      "metadata": {
        "id": "o1pgfBBGXNtz"
      }
    },
    {
      "cell_type": "markdown",
      "source": [
        "----------------------------------------PRATICAL QUESTION--------------------------"
      ],
      "metadata": {
        "id": "l1Auj13PXZq8"
      }
    },
    {
      "cell_type": "markdown",
      "source": [
        "1) How do you create a basic Flask application?\n",
        "\n"
      ],
      "metadata": {
        "id": "jr5R9aa5X9Ri"
      }
    },
    {
      "cell_type": "code",
      "source": [
        "from flask import Flask\n",
        "\n",
        "app = Flask(__name__)\n",
        "\n",
        "@app.route('/')\n",
        "def home():\n",
        "    return \"Hello, Flask! This is a basic app.\"\n",
        "\n",
        "if __name__ == '__main__':\n",
        "    app.run(debug=True)"
      ],
      "metadata": {
        "id": "LYSePJBiZr8t"
      },
      "execution_count": null,
      "outputs": []
    },
    {
      "cell_type": "markdown",
      "source": [
        "2. How do you serve static files like images or CSS in Flask?"
      ],
      "metadata": {
        "id": "Tdb8ADSJaQBp"
      }
    },
    {
      "cell_type": "code",
      "source": [
        "<link rel=\"stylesheet\" href=\"{{ url_for('static', filename='style.css') }}\">"
      ],
      "metadata": {
        "id": "iTxgdp4HaVzR"
      },
      "execution_count": null,
      "outputs": []
    },
    {
      "cell_type": "markdown",
      "source": [
        "3. How do you define different routes with different HTTP methods in Flask?"
      ],
      "metadata": {
        "id": "Kk_xI-SVatXy"
      }
    },
    {
      "cell_type": "code",
      "source": [
        "from flask import request\n",
        "@app.route('/data', methods=['GET', 'POST'])\n",
        "def data():\n",
        "    if request.method == 'GET':\n",
        "        return \"This is a GET request\"\n",
        "    elif request.method == 'POST':\n",
        "        return \"This is a POST request\""
      ],
      "metadata": {
        "id": "Cjyn9BrTbrHK"
      },
      "execution_count": null,
      "outputs": []
    },
    {
      "cell_type": "markdown",
      "source": [
        "4. How do you render HTML templates in Flask?"
      ],
      "metadata": {
        "id": "a43QmIGWcNOi"
      }
    },
    {
      "cell_type": "markdown",
      "source": [
        "Store templates inside a templates/ folder.\n",
        "File: templates/index.html"
      ],
      "metadata": {
        "id": "rXcpJrYWhDsU"
      }
    },
    {
      "cell_type": "code",
      "source": [
        "<!DOCTYPE html>\n",
        "<html>\n",
        "<head><title>Flask Template</title></head>\n",
        "<body>\n",
        "  <h1>Hello, {{ name }}!</h1>\n",
        "</body>\n",
        "</html>"
      ],
      "metadata": {
        "id": "WLnaaELrcR_Y"
      },
      "execution_count": null,
      "outputs": []
    },
    {
      "cell_type": "code",
      "source": [
        "from flask import render_template\n",
        "\n",
        "@app.route('/hello/<user>')\n",
        "def hello(user):\n",
        "    return render_template('index.html', name=user)"
      ],
      "metadata": {
        "id": "YH798GIbgcni"
      },
      "execution_count": null,
      "outputs": []
    },
    {
      "cell_type": "markdown",
      "source": [
        "5. How can you generate URLs for routes in Flask using url_for?"
      ],
      "metadata": {
        "id": "SH-v3GXGhkxY"
      }
    },
    {
      "cell_type": "code",
      "source": [
        "from flask import url_for, redirect\n",
        "\n",
        "@app.route('/home')\n",
        "def home():\n",
        "    return \"This is Home Page\"\n",
        "\n",
        "@app.route('/go-home')\n",
        "def go_home():\n",
        "    return redirect(url_for('home'))"
      ],
      "metadata": {
        "id": "vbDE3h9vhqn1"
      },
      "execution_count": null,
      "outputs": []
    },
    {
      "cell_type": "markdown",
      "source": [
        "6. How do you handle forms in Flask?"
      ],
      "metadata": {
        "id": "1EJcbKyciQgN"
      }
    },
    {
      "cell_type": "code",
      "source": [
        "HTML Form (templates/form.html):\n",
        "<!DOCTYPE html>\n",
        "<html>\n",
        "<body>\n",
        "  <form action=\"/submit\" method=\"post\">\n",
        "    Name: <input type=\"text\" name=\"username\">\n",
        "    <input type=\"submit\" value=\"Submit\">\n",
        "  </form>\n",
        "</body>\n",
        "</html>\n"
      ],
      "metadata": {
        "id": "sq-sdgsfifEx"
      },
      "execution_count": null,
      "outputs": []
    },
    {
      "cell_type": "code",
      "source": [
        "from flask import request, render_template\n",
        "\n",
        "@app.route('/form')\n",
        "def form():\n",
        "    return render_template(\"form.html\")\n",
        "\n",
        "@app.route('/submit', methods=['POST'])\n",
        "def submit():\n",
        "    name = request.form['username']\n",
        "    return f\"Hello {name}, form submitted successfully!\""
      ],
      "metadata": {
        "id": "E1RXj3y-iogx"
      },
      "execution_count": null,
      "outputs": []
    },
    {
      "cell_type": "markdown",
      "source": [
        "7. How can you validate form data in Flask?"
      ],
      "metadata": {
        "id": "VQF40BIGitpt"
      }
    },
    {
      "cell_type": "code",
      "source": [
        "@app.route('/validate', methods=['POST'])\n",
        "def validate():\n",
        "    name = request.form.get('username')\n",
        "    if not name:\n",
        "        return \"Name is required!\", 400\n",
        "    return f\"Welcome {name}\""
      ],
      "metadata": {
        "id": "KsREvwvoi9mk"
      },
      "execution_count": null,
      "outputs": []
    },
    {
      "cell_type": "markdown",
      "source": [
        "8. How do you manage sessions in Flask?"
      ],
      "metadata": {
        "id": "5KatpLC4jCE_"
      }
    },
    {
      "cell_type": "code",
      "source": [
        "from flask import session\n",
        "\n",
        "app.secret_key = \"secret123\"\n",
        "\n",
        "@app.route('/login')\n",
        "def login():\n",
        "    session['username'] = 'Alice'\n",
        "    return \"Login successful\"\n",
        "\n",
        "@app.route('/profile')\n",
        "def profile():\n",
        "    user = session.get('user')\n",
        "    return f\"Hello {user}, this is your profile.\""
      ],
      "metadata": {
        "id": "-Go_t3FVjJJM"
      },
      "execution_count": null,
      "outputs": []
    },
    {
      "cell_type": "markdown",
      "source": [
        "9. How do you redirect to a different route in Flask?"
      ],
      "metadata": {
        "id": "XO9G0ONNkBuA"
      }
    },
    {
      "cell_type": "code",
      "source": [
        "from flask import redirect, url_for\n",
        "\n",
        "@app.route('/old')\n",
        "def old():\n",
        "    return redirect(url_for('new'))\n",
        "\n",
        "@app.route('/new')\n",
        "def new():\n",
        "    return \"You have been redirected!\""
      ],
      "metadata": {
        "id": "BJPwflI0kITG"
      },
      "execution_count": null,
      "outputs": []
    },
    {
      "cell_type": "markdown",
      "source": [
        "10. How do you handle errors in Flask (e.g., 404)?"
      ],
      "metadata": {
        "id": "lZkEkaf8kO2X"
      }
    },
    {
      "cell_type": "code",
      "source": [
        "@app.errorhandler(404)\n",
        "def not_found(e):\n",
        "    return {\"error\": \"Page not found\"}, 404"
      ],
      "metadata": {
        "id": "NkOiyIIikYFz"
      },
      "execution_count": null,
      "outputs": []
    },
    {
      "cell_type": "markdown",
      "source": [
        "11. How do you structure a Flask app using Blueprints?"
      ],
      "metadata": {
        "id": "8ou1hUf5kaw0"
      }
    },
    {
      "cell_type": "code",
      "source": [
        "from flask import Blueprint\n",
        "\n",
        "user_bp = Blueprint('user', __name__)\n",
        "\n",
        "@user_bp.route('/profile')\n",
        "def profile():\n",
        "    return \"This is the User Profile page\""
      ],
      "metadata": {
        "id": "NT_I2Beukg3Y"
      },
      "execution_count": null,
      "outputs": []
    },
    {
      "cell_type": "code",
      "source": [
        "from flask import Flask\n",
        "from user import user_bp\n",
        "\n",
        "app = Flask(__name__)\n",
        "app.register_blueprint(user_bp, url_prefix=\"/user\")\n",
        "\n",
        "if __name__ == \"__main__\":\n",
        "    app.run(debug=True)"
      ],
      "metadata": {
        "id": "42p070YakqIy"
      },
      "execution_count": null,
      "outputs": []
    },
    {
      "cell_type": "markdown",
      "source": [
        "12. How do you define a custom Jinja filter in Flask?"
      ],
      "metadata": {
        "id": "vPOlNXuIkw1q"
      }
    },
    {
      "cell_type": "code",
      "source": [
        "@app.template_filter('capitalize_name')\n",
        "def capitalize_name(s):\n",
        "    return s.capitalize()\n",
        "\n",
        "@app.route('/greet/<name>')\n",
        "def greet(name):\n",
        "    return render_template(\"greet.html\", name=name)"
      ],
      "metadata": {
        "id": "Vv7xWEfak1EN"
      },
      "execution_count": null,
      "outputs": []
    },
    {
      "cell_type": "code",
      "source": [
        "<h1>Hello, {{ name | capitalize_name }}</h1>"
      ],
      "metadata": {
        "id": "SYWZ-zialApU"
      },
      "execution_count": null,
      "outputs": []
    },
    {
      "cell_type": "markdown",
      "source": [
        "13. How can you redirect with query parameters in Flask?"
      ],
      "metadata": {
        "id": "BOxr6roDlF2Q"
      }
    },
    {
      "cell_type": "code",
      "source": [
        "from flask import request\n",
        "\n",
        "@app.route('/search')\n",
        "def search():\n",
        "    query = request.args.get('q')\n",
        "    return f\"Searching for: {query}\"\n",
        "\n",
        "@app.route('/go-search')\n",
        "def go_search():\n",
        "    return redirect(url_for('search', q='Flask'))"
      ],
      "metadata": {
        "id": "s9oHsYoilJf4"
      },
      "execution_count": null,
      "outputs": []
    },
    {
      "cell_type": "markdown",
      "source": [
        "14. How do you return JSON responses in Flask?"
      ],
      "metadata": {
        "id": "UnF2GSarlMu5"
      }
    },
    {
      "cell_type": "code",
      "source": [
        "from flask import jsonify\n",
        "\n",
        "@app.route('/api/data')\n",
        "def api_data():\n",
        "    return jsonify({\"name\": \"Alice\", \"age\": 25})"
      ],
      "metadata": {
        "id": "cd1T8F8ilQYm"
      },
      "execution_count": null,
      "outputs": []
    },
    {
      "cell_type": "markdown",
      "source": [
        "15. How do you capture URL parameters in Flask?"
      ],
      "metadata": {
        "id": "u9T7kQ_NlVPk"
      }
    },
    {
      "cell_type": "code",
      "source": [
        "@app.route('/user/<username>')\n",
        "def user_profile(username):\n",
        "    return f\"Welcome {username}!\""
      ],
      "metadata": {
        "id": "iEzUgNNslZ2U"
      },
      "execution_count": null,
      "outputs": []
    }
  ]
}